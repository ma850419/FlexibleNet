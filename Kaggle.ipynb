{
  "nbformat": 4,
  "nbformat_minor": 0,
  "metadata": {
    "colab": {
      "provenance": [],
      "include_colab_link": true
    },
    "kernelspec": {
      "name": "python3",
      "display_name": "Python 3"
    },
    "language_info": {
      "name": "python"
    }
  },
  "cells": [
    {
      "cell_type": "markdown",
      "metadata": {
        "id": "view-in-github",
        "colab_type": "text"
      },
      "source": [
        "<a href=\"https://colab.research.google.com/github/ma850419/FlexibleNet/blob/main/Kaggle.ipynb\" target=\"_parent\"><img src=\"https://colab.research.google.com/assets/colab-badge.svg\" alt=\"Open In Colab\"/></a>"
      ]
    },
    {
      "cell_type": "code",
      "execution_count": 19,
      "metadata": {
        "id": "QA4JTdiaH1h6"
      },
      "outputs": [],
      "source": [
        "!pip install -q kaggle"
      ]
    },
    {
      "cell_type": "code",
      "source": [
        "!mkdir -p ~/.kaggle\n",
        "!cp kaggle.json ~/.kaggle/"
      ],
      "metadata": {
        "id": "PuKW31UVIZg_"
      },
      "execution_count": 20,
      "outputs": []
    },
    {
      "cell_type": "code",
      "source": [
        "!chmod 600 ~/.kaggle/kaggle.json"
      ],
      "metadata": {
        "id": "Qyv5z0Q4IoAn"
      },
      "execution_count": 21,
      "outputs": []
    },
    {
      "cell_type": "code",
      "source": [
        "dataset_path=\"google-research-identify-contrails-reduce-global-warming\""
      ],
      "metadata": {
        "id": "WENBErpQIvKI"
      },
      "execution_count": 7,
      "outputs": []
    },
    {
      "cell_type": "code",
      "source": [
        "!kaggle competitions download -c google-research-identify-contrails-reduce-global-warming  -f test -p /content/"
      ],
      "metadata": {
        "colab": {
          "base_uri": "https://localhost:8080/"
        },
        "id": "jzV5svMrWDbL",
        "outputId": "a0db8212-7a02-4680-f3b7-a3125624724c"
      },
      "execution_count": 23,
      "outputs": [
        {
          "output_type": "stream",
          "name": "stdout",
          "text": [
            "404 - Not Found\n"
          ]
        }
      ]
    },
    {
      "cell_type": "code",
      "source": [
        "!df -H"
      ],
      "metadata": {
        "colab": {
          "base_uri": "https://localhost:8080/"
        },
        "id": "bAl7t8zhJCt4",
        "outputId": "59f478dc-34e5-487e-af02-d0425162736c"
      },
      "execution_count": 17,
      "outputs": [
        {
          "output_type": "stream",
          "name": "stdout",
          "text": [
            "Filesystem      Size  Used Avail Use% Mounted on\n",
            "overlay         116G   26G   90G  23% /\n",
            "tmpfs            68M     0   68M   0% /dev\n",
            "shm             6.2G     0  6.2G   0% /dev/shm\n",
            "/dev/root       2.1G  1.1G  999M  52% /usr/sbin/docker-init\n",
            "tmpfs           6.9G  168k  6.9G   1% /var/colab\n",
            "/dev/sda1        44G   29G   15G  68% /etc/hosts\n",
            "tmpfs           6.9G     0  6.9G   0% /proc/acpi\n",
            "tmpfs           6.9G     0  6.9G   0% /proc/scsi\n",
            "tmpfs           6.9G     0  6.9G   0% /sys/firmware\n"
          ]
        }
      ]
    },
    {
      "cell_type": "code",
      "source": [
        "import os\n",
        "for dirname, _, filenames in os.walk('/content/'):\n",
        "    for filename in filenames:\n",
        "        print(os.path.join(dirname, filename))"
      ],
      "metadata": {
        "colab": {
          "base_uri": "https://localhost:8080/"
        },
        "id": "ZxBD0k7oLILH",
        "outputId": "fbaaa84e-88d5-47f3-d24e-a63b7e42872b"
      },
      "execution_count": null,
      "outputs": [
        {
          "output_type": "stream",
          "name": "stdout",
          "text": [
            "/content/kaggle.json\n",
            "/content/.config/.last_survey_prompt.yaml\n",
            "/content/.config/gce\n",
            "/content/.config/.last_update_check.json\n",
            "/content/.config/active_config\n",
            "/content/.config/default_configs.db\n",
            "/content/.config/config_sentinel\n",
            "/content/.config/.last_opt_in_prompt.yaml\n",
            "/content/.config/logs/2023.06.21/21.46.46.286754.log\n",
            "/content/.config/logs/2023.06.21/21.45.18.479807.log\n",
            "/content/.config/logs/2023.06.21/21.46.10.823665.log\n",
            "/content/.config/logs/2023.06.21/21.45.44.676013.log\n",
            "/content/.config/logs/2023.06.21/21.46.19.376436.log\n",
            "/content/.config/logs/2023.06.21/21.46.47.092469.log\n",
            "/content/.config/configurations/config_default\n",
            "/content/sample_data/README.md\n",
            "/content/sample_data/anscombe.json\n",
            "/content/sample_data/california_housing_train.csv\n",
            "/content/sample_data/california_housing_test.csv\n",
            "/content/sample_data/mnist_test.csv\n",
            "/content/sample_data/mnist_train_small.csv\n"
          ]
        }
      ]
    }
  ]
}