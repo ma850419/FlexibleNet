{
  "cells": [
    {
      "cell_type": "markdown",
      "metadata": {
        "id": "view-in-github",
        "colab_type": "text"
      },
      "source": [
        "<a href=\"https://colab.research.google.com/github/ma850419/FlexibleNet/blob/main/Welcome_To_Colaboratory.ipynb\" target=\"_parent\"><img src=\"https://colab.research.google.com/assets/colab-badge.svg\" alt=\"Open In Colab\"/></a>"
      ]
    },
    {
      "cell_type": "code",
      "source": [
        "import numpy as np\n",
        "from osgeo import gdal\n",
        "filepath = r'/content/PRS_L1_STD_OFFL_20221217082013_20221217082018_0001_HCO_VNIR.tif'\n",
        "# https://stackoverflow.com/questions/43684072/how-to-import-multiple-bands-from-an-image-into-numpy\n",
        "# Load one GeoTIFF image using GDAL\n",
        "dataset = gdal.Open(filepath)\n",
        "#nodata_value = dataset.GetRasterBand(1).GetNoDataValue()\n",
        "projInfo = dataset.GetProjection()\n",
        "trans = dataset.GetGeoTransform()\n",
        "print(projInfo,trans)\n",
        "#image = np.zeros(( dataset.RasterXSize,dataset.RasterYSize,dataset.RasterCount))\n",
        "image = dataset.ReadAsArray()\n",
        "image2 = np.transpose(image,(1,2,0))\n",
        "print(type(image))  # <class 'numpy.ndarray'>\n",
        "print(image2.shape) \n",
        "print(image.dtype)  "
      ],
      "metadata": {
        "id": "L8pEg1GdIAjM",
        "colab": {
          "base_uri": "https://localhost:8080/"
        },
        "outputId": "56d7d086-9ade-4c9c-d543-0302496b91cc"
      },
      "execution_count": 1,
      "outputs": [
        {
          "output_type": "stream",
          "name": "stdout",
          "text": [
            "GEOGCS[\"WGS 84\",DATUM[\"WGS_1984\",SPHEROID[\"WGS 84\",6378137,298.257223563,AUTHORITY[\"EPSG\",\"7030\"]],AUTHORITY[\"EPSG\",\"6326\"]],PRIMEM[\"Greenwich\",0],UNIT[\"degree\",0.0174532925199433,AUTHORITY[\"EPSG\",\"9122\"]],AXIS[\"Latitude\",NORTH],AXIS[\"Longitude\",EAST],AUTHORITY[\"EPSG\",\"4326\"]] (35.49288558959961, 0.0003509521484375, 0.0, 33.71284866333008, 0.0, -0.0002593994140625)\n",
            "<class 'numpy.ndarray'>\n",
            "(1231, 1245, 63)\n",
            "float32\n"
          ]
        }
      ]
    },
    {
      "cell_type": "code",
      "source": [
        "!pip install minisom"
      ],
      "metadata": {
        "id": "2qnG0fK6Xgol"
      },
      "execution_count": null,
      "outputs": []
    },
    {
      "cell_type": "code",
      "source": [
        "import statistics\n",
        "from minisom import MiniSom\n",
        "mine=np.zeros((1231*1245,63))\n",
        "pixels2=np.zeros((1231*1245,63))\n",
        "pixels3=np.zeros((1231*1245,63))\n",
        "som_clustered=np.zeros((1231*1245,63))\n",
        "som = MiniSom(4, 4, 63, sigma=0.5,learning_rate=0.1, neighborhood_function='gaussian')\n",
        "#mine=zeros((512*512,4))\n",
        "#pixels2=zeros((600,512*512,4))\n",
        "#som_clustered=zeros((600,512*512,1))\n",
        "#for i in range(600):\n",
        "pixels2= image2.reshape(1231*1245,63)\n",
        "pixels3 = pixels2 != -999\n",
        "pixels2 = abs(pixels2)*pixels3/300.0\n",
        "#print( pixels2.min())\n",
        "som.random_weights_init(pixels2)\n",
        "starting_weights = som.get_weights().copy()  # saving the starting weights\n",
        "som.train(pixels2, 10000, random_order=False, verbose=True)\n",
        "print('quantization...')\n",
        "qnt = som.quantization(pixels2)  # quantize each pixels of the image\n",
        "    #print(qnt.shape)\n",
        "clustered = np.zeros((1231*1245,63))\n",
        "clustered1 = np.zeros((1231*1245,1))\n",
        "for j, q in enumerate(qnt):  # place the quantized values into a new image\n",
        "  sn = np.unravel_index(j,shape=((1231*1245)))\n",
        "    #print(sn)\n",
        "    #print(me)\n",
        "   \n",
        "  #print(q,(mean(q)*6).astype(np.uint8))\n",
        "  #print(me)\n",
        "  clustered[sn] = q[:] #(max(q)*6).astype(np.uint8) \n",
        "  #print(q[:]*255,round(q[:].max()*255))\n",
        "  #print(me)\n",
        "  #print((round(q[:].max()*16*300.0)))\n",
        "  #print(me)\n",
        "  clustered1[sn] = (round(q[:].max()*255))#.astype(np.uint8) #statistics.mean(q)\n",
        " # print(clustered1[sn])\n",
        "        #print(clustered.shape)\n",
        "#mine= np.append(mine,clustered,axis=0)#,axis=0)\n",
        "   # print(clustered1)\n",
        "#som_clustered[i] =  clustered1\n",
        "    #print(som_clustered[i])\n",
        "    #print(me)\n",
        "#print(mine.shape)"
      ],
      "metadata": {
        "id": "NLyWhKguYmoM"
      },
      "execution_count": null,
      "outputs": []
    },
    {
      "cell_type": "code",
      "source": [
        "import cv2\n",
        "import matplotlib.pyplot as plt\n",
        "#print(clustered.shape, clustered1.shape)\n",
        "pixels2= pixels2.reshape((1231,1245,63))\n",
        "clustered2 = np.zeros((1231,1245))\n",
        "clustered3 = np.zeros((1231,1245,3))\n",
        "clustered3[:,:,0]=pixels2[:,:,60]\n",
        "clustered3[:,:,1]=pixels2[:,:,35]\n",
        "clustered3[:,:,2]=pixels2[:,:,20]\n",
        "clustered3 = cv2.pow(clustered3,0.6)\n",
        "# Convert the image from BGR to HSV color space\n",
        "clustered2 = clustered1.reshape(1231,1245)\n",
        "f, axarr = plt.subplots(2,2)\n",
        "plt.figure(figsize = (20,4))\n",
        "axarr[0,0].imshow(clustered2)\n",
        "#plt.show()\n",
        "axarr[0,1].imshow(clustered3)\n",
        "#plt.show()\n",
        "clustered3[:,:,0]=pixels2[:,:,50]\n",
        "clustered3[:,:,1]=pixels2[:,:,30]\n",
        "clustered3[:,:,2]=pixels2[:,:,15]\n",
        "clustered3 = cv2.pow(clustered3,0.7)\n",
        "axarr[1,0].imshow(clustered3)\n",
        "#plt.show()\n",
        "clustered3[:,:,0]=pixels2[:,:,30]\n",
        "clustered3[:,:,1]=pixels2[:,:,20]\n",
        "clustered3[:,:,2]=pixels2[:,:,10]\n",
        "axarr[1,1].imshow(clustered3)\n",
        "plt.show()"
      ],
      "metadata": {
        "id": "dlPPXg3X36lN"
      },
      "execution_count": null,
      "outputs": []
    },
    {
      "cell_type": "code",
      "source": [
        "!ls -l"
      ],
      "metadata": {
        "id": "4tiUhUFx5MkM"
      },
      "execution_count": null,
      "outputs": []
    },
    {
      "cell_type": "code",
      "source": [
        "#from osgeo import osr\n",
        "output_file = \"out7.tif\"\n",
        "#clustered2 = np.zeros((1231,1245))\n",
        "#clustered2 = clustered1.reshape(1231,1245)\n",
        "# Create gtif\n",
        "driver = gdal.GetDriverByName(\"GTiff\")\n",
        "dst_ds = driver.Create(output_file, clustered2.shape[1], clustered2.shape[0],1, gdal.GDT_Float32 )\n",
        "# top left x, w-e pixel resolution, rotation, top left y, rotation, n-s pixel resolution\n",
        "#dst_ds.SetGeoTransform( [ -180, 0.025, 0, 90, 0, -0.025 ] )\n",
        "#print(clustered2[900:1000,900:1000], clustered2.dtype)\n",
        "#print(me)\n",
        "# set the reference info \n",
        "dst_ds.SetGeoTransform(trans)\n",
        "#dst_ds.ImportFromWkt(projInfo)\n",
        "dst_ds.SetProjection( projInfo )\n",
        "dst_ds.GetRasterBand(1).WriteArray(clustered2)#.SetNoDataValue(nodata_value)\n",
        "dst_ds.FlushCache()\n",
        "dst_ds = None\n"
      ],
      "metadata": {
        "id": "FyBc1zT4eFqO"
      },
      "execution_count": null,
      "outputs": []
    },
    {
      "cell_type": "code",
      "source": [
        "def unique(list1):\n",
        " \n",
        "    # insert the list to the set\n",
        "    list_set = set(list1)\n",
        "    # convert the set to the list\n",
        "    unique_list = (list(list_set))\n",
        "    #for x in unique_list:\n",
        "        #print(x)\n",
        "    return unique_list"
      ],
      "metadata": {
        "id": "Cxr1qbkrrnb_"
      },
      "execution_count": null,
      "outputs": []
    },
    {
      "cell_type": "code",
      "source": [
        "list1=[]\n",
        "list1= np.append(list1,clustered)\n",
        "#list1=clustered1.tolist()\n",
        "l= np.zeros(60)\n",
        "u=unique(list1)\n",
        "print(u)\n"
      ],
      "metadata": {
        "id": "REnOM6z5rqAW"
      },
      "execution_count": null,
      "outputs": []
    },
    {
      "cell_type": "code",
      "source": [
        "a=plt.hist(clustered)\n",
        "print(a)"
      ],
      "metadata": {
        "id": "1hMtBWvylSsJ"
      },
      "execution_count": null,
      "outputs": []
    },
    {
      "cell_type": "code",
      "source": [
        "import tensorflow as tf\n",
        "from tensorflow import keras\n",
        "from keras import layers, models\n",
        "import keras\n",
        "from keras.models import Sequential\n",
        "from keras.layers import Dense, Dropout, Flatten\n",
        "from keras.layers import Conv2D, MaxPooling2D\n",
        "#from keras.utils import to_categorical\n",
        "from keras.preprocessing import image\n",
        "#import numpy as np\n",
        "#import pandas as pd\n",
        "import matplotlib.pyplot as plt\n",
        "from sklearn.metrics import  confusion_matrix, classification_report\n",
        "from sklearn.model_selection import train_test_split\n",
        "#from keras.utils import to_categorical\n",
        "from tqdm import tqdm\n",
        "#import pydot\n",
        "#import pydot_ng as pydot\n",
        "from keras.utils import plot_model\n",
        "from keras.layers import Input, Dense, BatchNormalization"
      ],
      "metadata": {
        "id": "bDLKnoWfpIho"
      },
      "execution_count": 9,
      "outputs": []
    },
    {
      "cell_type": "code",
      "source": [
        "#creating subimage of size 32X32\n",
        "height=32\n",
        "width = 32\n",
        "subim = np.zeros((38,32,32,63))\n",
        "imgwidth, imgheight, bands= image2[15:1231,29:1245,:].shape\n",
        "image3 = np.zeros((imgwidth, imgheight, bands))\n",
        "image3 = image2[15:1231,29:1245,:]\n",
        "#print(imgwidth, imgheight, bands)\n",
        "for k in range(0,38):\n",
        "  for i in range(0,imgheight,height):\n",
        "    for j in range(0,imgwidth,width):\n",
        "      #box = (j, i, j+width, i+height)\n",
        "      subim[k]= image3[j:j+width,i:i+height,:]"
      ],
      "metadata": {
        "id": "fFrQhAu-13yu"
      },
      "execution_count": 7,
      "outputs": []
    },
    {
      "cell_type": "code",
      "source": [
        "import csv\n",
        "from os import listdir\n",
        "import numpy as np\n",
        "import matplotlib.image as img\n",
        "import pandas as pd\n",
        "import os\n",
        "from os.path import exists\n",
        "from pathlib import Path\n",
        "\n",
        "#with open('C:/Users/ma850/OneDrive/Documents/banana_spectral_signatures/banana_healthy_1a.dat', 'r') as dat_file:\n",
        " #   with open('C:/Users/ma850/OneDrive/Documents/banana_spectral_signatures/banana_healthy_1a.csv', 'w') as csv_file:\n",
        "csv_dir = filepath = r'/content/allspectral.csv'\n",
        "onlyfilenames = [f for f in listdir(csv_dir) if os.path.isfile(csv_dir+f)]\n",
        "for file in onlyfilenames:\n",
        "    print(file)\n",
        "    filename, extension = os.path.splitext(file)\n",
        "    if extension == '.csv':\n",
        "        df = pd.read_csv(csv_dir+file,header =0)#, chunksize=1000)\n",
        "        print(df.shape)\n",
        "specsig = (df.iloc[:,:].values).astype('float32')\n",
        "print(specsig.shape)"
      ],
      "metadata": {
        "colab": {
          "base_uri": "https://localhost:8080/"
        },
        "id": "TIO6F0oNrCC-",
        "outputId": "6416c760-18a0-4291-9c14-7ad875613b50"
      },
      "execution_count": 8,
      "outputs": [
        {
          "output_type": "stream",
          "name": "stdout",
          "text": [
            "(38, 32, 32, 63)\n"
          ]
        }
      ]
    },
    {
      "cell_type": "code",
      "source": [
        "#filtering A spectril signature\n",
        "\n",
        "import numpy\n",
        "print(specsig[:,0])\n",
        "specsig[:,0:1]\n",
        "import matplotlib.pyplot as plt\n",
        "#plt.plot(specsig[:,0],specsig[:,1])\n",
        "specsig1 = numpy.zeros((2151,30))\n",
        "specsig2 = numpy.zeros((2151,30))\n",
        "leng=len(specsig)\n",
        "#print(leng)\n",
        "specsig1[:,0] = specsig[:,0]\n",
        "for i in range(leng):\n",
        "    for j in range(1,30,1):\n",
        "        if(specsig[i,j] >=0 and specsig[i,j] <= 1.0):\n",
        "            specsig1[i,j]=specsig[i,j]\n",
        "        else:\n",
        "            specsig1[i,j]= 0\n",
        "#print(specsig1[:,0:1])       \n",
        "specsig2[:,0] = specsig[:,0]\n",
        "specsig2[0:991,1:30]=specsig[0:991,1:30]\n",
        "specsig2[991:1096,1:30]=specsig[991:1096,1:30]\n",
        "specsig2[1096:1441,1:30]= specsig[1096:1441,1:30]\n",
        "specsig2[1441:1606,1:30]=0\n",
        "specsig2[1606:2151,1:30]= specsig[1606:2151,1:30]\n",
        "print(specsig2.shape)\n",
        "plt.subplot(1, 2 , 1) # row 1, col 2 index 1\n",
        "#plt.plot(specsig2[0:991,0],specsig2[0:991,2],'b.')\n",
        "#plt.plot(specsig2[1096:1441,0],specsig2[1096:1441,2],'b.')\n",
        "#plt.plot(specsig2[1606:2100,0],specsig2[1606:2100,2],'b.')\n",
        "plt.plot(specsig2[:,0],specsig2[:,1:],'b.')\n",
        "plt.subplot(2, 2, 2) \n",
        "plt.plot(specsig[:,0],specsig[:,1:],'r^')\n",
        "plt.show"
      ],
      "metadata": {
        "id": "zOgbcB5c8Z7D"
      },
      "execution_count": null,
      "outputs": []
    },
    {
      "cell_type": "code",
      "source": [
        "#resmapling spectral signatures to Prisma VNIR using FWHM\n",
        "specsig2 = np.zeros((63,31))\n",
        "print(fwhm.shape)\n",
        "specsig2[:,0]=fwhm[:,2]\n",
        "specsig2[:,1]=fwhm[:,3]\n",
        "for j in range(1,30):\n",
        "   # n=0\n",
        "    for i in range(0,63):\n",
        "        f= round(fwhm[i,2])\n",
        "        k= round(f+fwhm[i,3])\n",
        "        s=0\n",
        "        l=0\n",
        "        print(f,k)\n",
        "        for m in range (0,2151):\n",
        "           \n",
        "            if specsig[m,0] >= f and specsig[m,0]<=k:\n",
        "                print(specsig[m,0],l,specsig[m,j])\n",
        "                s= specsig[m,j]+ s\n",
        "                l=l+1\n",
        "        av= s/l\n",
        "        print(av)\n",
        "        specsig2[i,j+1]= av\n",
        " \n",
        "        #n+=1\n",
        "    print(specsig2[:,j])"
      ],
      "metadata": {
        "id": "UPnb_LMY8oBY"
      },
      "execution_count": null,
      "outputs": []
    }
  ],
  "metadata": {
    "colab": {
      "name": "Welcome To Colaboratory",
      "provenance": [],
      "include_colab_link": true
    },
    "kernelspec": {
      "display_name": "Python 3",
      "name": "python3"
    }
  },
  "nbformat": 4,
  "nbformat_minor": 0
}