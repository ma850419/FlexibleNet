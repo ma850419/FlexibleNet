{
  "cells": [
    {
      "cell_type": "markdown",
      "metadata": {
        "id": "view-in-github",
        "colab_type": "text"
      },
      "source": [
        "<a href=\"https://colab.research.google.com/github/ma850419/FlexibleNet/blob/main/Welcome_To_Colaboratory.ipynb\" target=\"_parent\"><img src=\"https://colab.research.google.com/assets/colab-badge.svg\" alt=\"Open In Colab\"/></a>"
      ]
    },
    {
      "cell_type": "code",
      "execution_count": 13,
      "metadata": {
        "colab": {
          "base_uri": "https://localhost:8080/"
        },
        "id": "gJr_9dXGpJ05",
        "outputId": "945fb641-541a-428e-86a9-0d0990967478"
      },
      "outputs": [
        {
          "output_type": "execute_result",
          "data": {
            "text/plain": [
              "['.config',\n",
              " 'PRS_L1_STD_OFFL_20221217082013_20221217082018_0001_HCO_VNIR.tif',\n",
              " 'sample_data']"
            ]
          },
          "metadata": {},
          "execution_count": 13
        }
      ],
      "source": [
        "os.listdir()"
      ]
    },
    {
      "cell_type": "code",
      "source": [
        "import numpy as np\n",
        "from osgeo import gdal\n",
        "filepath = r'/content/PRS_L1_STD_OFFL_20221217082013_20221217082018_0001_HCO_VNIR.tif'\n",
        "# https://stackoverflow.com/questions/43684072/how-to-import-multiple-bands-from-an-image-into-numpy\n",
        "# Load one GeoTIFF image using GDAL\n",
        "dataset = gdal.Open(filepath)\n",
        "#image = np.zeros(( dataset.RasterXSize,dataset.RasterYSize,dataset.RasterCount))\n",
        "image = dataset.ReadAsArray()\n",
        "print(type(image))  # <class 'numpy.ndarray'>\n",
        "print(image.shape)  # (13, 64, 64)\n",
        "print(image.dtype)  # uint16"
      ],
      "metadata": {
        "colab": {
          "base_uri": "https://localhost:8080/"
        },
        "id": "L8pEg1GdIAjM",
        "outputId": "71998b57-5d5c-4f4e-8ad5-e9018700897f"
      },
      "execution_count": 15,
      "outputs": [
        {
          "output_type": "stream",
          "name": "stdout",
          "text": [
            "<class 'numpy.ndarray'>\n",
            "(63, 1231, 1245)\n",
            "float32\n"
          ]
        }
      ]
    },
    {
      "cell_type": "code",
      "source": [],
      "metadata": {
        "id": "2qnG0fK6Xgol"
      },
      "execution_count": null,
      "outputs": []
    }
  ],
  "metadata": {
    "colab": {
      "name": "Welcome To Colaboratory",
      "provenance": [],
      "include_colab_link": true
    },
    "kernelspec": {
      "display_name": "Python 3",
      "name": "python3"
    }
  },
  "nbformat": 4,
  "nbformat_minor": 0
}