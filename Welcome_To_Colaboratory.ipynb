{
  "cells": [
    {
      "cell_type": "markdown",
      "metadata": {
        "id": "view-in-github",
        "colab_type": "text"
      },
      "source": [
        "<a href=\"https://colab.research.google.com/github/ma850419/FlexibleNet/blob/main/Welcome_To_Colaboratory.ipynb\" target=\"_parent\"><img src=\"https://colab.research.google.com/assets/colab-badge.svg\" alt=\"Open In Colab\"/></a>"
      ]
    },
    {
      "cell_type": "code",
      "source": [
        "import numpy as np\n",
        "from osgeo import gdal\n",
        "filepath = r'/content/PRS_L1_STD_OFFL_20221217082013_20221217082018_0001_HCO_VNIR.tif'\n",
        "# https://stackoverflow.com/questions/43684072/how-to-import-multiple-bands-from-an-image-into-numpy\n",
        "# Load one GeoTIFF image using GDAL\n",
        "dataset = gdal.Open(filepath)\n",
        "nodata_value = dataset.GetRasterBand(1).GetNoDataValue()\n",
        "projInfo = dataset.GetProjection()\n",
        "trans = dataset.GetGeoTransform()\n",
        "print(projInfo,trans)\n",
        "#image = np.zeros(( dataset.RasterXSize,dataset.RasterYSize,dataset.RasterCount))\n",
        "image = dataset.ReadAsArray()\n",
        "print(type(image))  # <class 'numpy.ndarray'>\n",
        "print(image.shape) \n",
        "print(image.dtype)  "
      ],
      "metadata": {
        "id": "L8pEg1GdIAjM"
      },
      "execution_count": null,
      "outputs": []
    },
    {
      "cell_type": "code",
      "source": [
        "!pip install minisom"
      ],
      "metadata": {
        "id": "2qnG0fK6Xgol"
      },
      "execution_count": null,
      "outputs": []
    },
    {
      "cell_type": "code",
      "source": [
        "import statistics\n",
        "from minisom import MiniSom\n",
        "mine=np.zeros((1231*1245,63))\n",
        "pixels2=np.zeros((1231*1245,63))\n",
        "pixels3=np.zeros((1231*1245,63))\n",
        "som_clustered=np.zeros((1231*1245,63))\n",
        "som = MiniSom(4, 4, 63, sigma=0.5,learning_rate=0.1, neighborhood_function='gaussian')\n",
        "#mine=zeros((512*512,4))\n",
        "#pixels2=zeros((600,512*512,4))\n",
        "#som_clustered=zeros((600,512*512,1))\n",
        "#for i in range(600):\n",
        "pixels2= image.reshape(1231*1245,63)\n",
        "pixels3 = pixels2 != -999\n",
        "pixels2 = abs(pixels2)*pixels3/300.0\n",
        "#print( pixels2.min())\n",
        "#print(me)\n",
        "#print(pixels2[100000:100100,:])\n",
        "#print(me)\n",
        "som.random_weights_init(pixels2)\n",
        "starting_weights = som.get_weights().copy()  # saving the starting weights\n",
        "som.train(pixels2, 5000, random_order=False, verbose=True)\n",
        "print('quantization...')\n",
        "qnt = som.quantization(pixels2)  # quantize each pixels of the image\n",
        "    #print(qnt.shape)\n",
        "clustered = np.zeros((1231*1245,63))\n",
        "clustered1 = np.zeros((1231*1245,1))\n",
        "for j, q in enumerate(qnt):  # place the quantized values into a new image\n",
        "  sn = np.unravel_index(j,shape=((1231*1245)))\n",
        "    #print(sn)\n",
        "    #print(me)\n",
        "   \n",
        "  #print(q,(mean(q)*6).astype(np.uint8))\n",
        "  #print(me)\n",
        "  clustered[sn] = q[:] #(max(q)*6).astype(np.uint8) \n",
        "  #print((round(q[:].max()*16*300.0)))\n",
        "  #print(me)\n",
        "  clustered1[sn] = (round(q[:].max()*255.0))#.astype(np.uint8) #statistics.mean(q)\n",
        " # print(clustered1[sn])\n",
        "        #print(clustered.shape)\n",
        "#mine= np.append(mine,clustered,axis=0)#,axis=0)\n",
        "   # print(clustered1)\n",
        "#som_clustered[i] =  clustered1\n",
        "    #print(som_clustered[i])\n",
        "    #print(me)\n",
        "#print(mine.shape)"
      ],
      "metadata": {
        "id": "NLyWhKguYmoM"
      },
      "execution_count": null,
      "outputs": []
    },
    {
      "cell_type": "code",
      "source": [
        "import matplotlib.pyplot as plt\n",
        "#print(clustered.shape, clustered1.shape)\n",
        "clustered2 = np.zeros((1231,1245))\n",
        "image1=image.reshape(1231,1245,63)\n",
        "clustered3 = np.zeros((1231,1245,3))\n",
        "clustered3[:,:,0]=image1[:,:,60]\n",
        "clustered3[:,:,1]=image1[:,:,35]\n",
        "clustered3[:,:,2]=image1[:,:,20]\n",
        "#print(clustered3, clustered2)\n",
        "clustered2 = clustered1.reshape(1231,1245)\n",
        "print(clustered2[900:1000,900:1000], clustered2.dtype)\n",
        "f, axarr = plt.subplots(2,2)\n",
        "plt.figure(figsize = (20,4))\n",
        "axarr[0,0].imshow(clustered2,interpolation='nearest')\n",
        "#plt.show()\n",
        "axarr[0,1].imshow(clustered3)\n",
        "#plt.show()\n",
        "clustered3[:,:,0]=image1[:,:,50]\n",
        "clustered3[:,:,1]=image1[:,:,30]\n",
        "clustered3[:,:,2]=image1[:,:,15]\n",
        "axarr[1,0].imshow(clustered3)\n",
        "#plt.show()\n",
        "clustered3[:,:,0]=image1[:,:,30]\n",
        "clustered3[:,:,1]=image1[:,:,20]\n",
        "clustered3[:,:,2]=image1[:,:,10]\n",
        "axarr[1,1].imshow(clustered3)\n",
        "plt.show()"
      ],
      "metadata": {
        "id": "dlPPXg3X36lN"
      },
      "execution_count": null,
      "outputs": []
    },
    {
      "cell_type": "code",
      "source": [
        "#from osgeo import osr\n",
        "output_file = \"out4.tif\"\n",
        "#clustered2 = np.zeros((1231,1245))\n",
        "#clustered2 = clustered1.reshape(1231,1245)\n",
        "# Create gtif\n",
        "driver = gdal.GetDriverByName(\"GTiff\")\n",
        "dst_ds = driver.Create(output_file, clustered2.shape[1], clustered2.shape[0],1, gdal.GDT_Float64 )\n",
        "# top left x, w-e pixel resolution, rotation, top left y, rotation, n-s pixel resolution\n",
        "#dst_ds.SetGeoTransform( [ -180, 0.025, 0, 90, 0, -0.025 ] )\n",
        "\n",
        "# set the reference info \n",
        "dst_ds.SetGeoTransform(trans)\n",
        "band = dst_ds.GetRasterBand(1)#.SetNoDataValue(nodata_value)\n",
        "dst_ds.SetProjection( projInfo )\n",
        "band.WriteArray(clustered2)\n",
        "band.FlushCache()\n",
        "band=None\n"
      ],
      "metadata": {
        "id": "FyBc1zT4eFqO"
      },
      "execution_count": null,
      "outputs": []
    },
    {
      "cell_type": "code",
      "source": [
        "def unique(list1):\n",
        " \n",
        "    # insert the list to the set\n",
        "    list_set = set(list1)\n",
        "    # convert the set to the list\n",
        "    unique_list = (list(list_set))\n",
        "    for x in unique_list:\n",
        "        print(x)"
      ],
      "metadata": {
        "id": "Cxr1qbkrrnb_"
      },
      "execution_count": null,
      "outputs": []
    },
    {
      "cell_type": "code",
      "source": [
        "list1=[]\n",
        "list1= np.append(list1,clustered1)\n",
        "#list1=clustered1.tolist()\n",
        "unique(list1)\n",
        "clustered2.show()"
      ],
      "metadata": {
        "id": "REnOM6z5rqAW"
      },
      "execution_count": null,
      "outputs": []
    }
  ],
  "metadata": {
    "colab": {
      "name": "Welcome To Colaboratory",
      "provenance": [],
      "include_colab_link": true
    },
    "kernelspec": {
      "display_name": "Python 3",
      "name": "python3"
    }
  },
  "nbformat": 4,
  "nbformat_minor": 0
}