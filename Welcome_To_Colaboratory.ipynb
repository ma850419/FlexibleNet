{
  "cells": [
    {
      "cell_type": "markdown",
      "metadata": {
        "id": "view-in-github",
        "colab_type": "text"
      },
      "source": [
        "<a href=\"https://colab.research.google.com/github/ma850419/FlexibleNet/blob/main/Welcome_To_Colaboratory.ipynb\" target=\"_parent\"><img src=\"https://colab.research.google.com/assets/colab-badge.svg\" alt=\"Open In Colab\"/></a>"
      ]
    },
    {
      "cell_type": "code",
      "source": [
        "import numpy as np\n",
        "from osgeo import gdal\n",
        "filepath = r'/content/PRS_L1_STD_OFFL_20221217082013_20221217082018_0001_HCO_VNIR.tif'\n",
        "# https://stackoverflow.com/questions/43684072/how-to-import-multiple-bands-from-an-image-into-numpy\n",
        "# Load one GeoTIFF image using GDAL\n",
        "dataset = gdal.Open(filepath)\n",
        "#nodata_value = dataset.GetRasterBand(1).GetNoDataValue()\n",
        "projInfo = dataset.GetProjection()\n",
        "trans = dataset.GetGeoTransform()\n",
        "print(projInfo,trans)\n",
        "#image = np.zeros(( dataset.RasterXSize,dataset.RasterYSize,dataset.RasterCount))\n",
        "image = dataset.ReadAsArray()\n",
        "image2 = np.transpose(image,(1,2,0))\n",
        "  # <class 'numpy.ndarray'>\n",
        "print(image2.shape) \n",
        "print(image.dtype)  \n",
        "print()"
      ],
      "metadata": {
        "id": "L8pEg1GdIAjM",
        "colab": {
          "base_uri": "https://localhost:8080/"
        },
        "outputId": "366c757e-7d42-45ff-aae9-da799cbc8bd4"
      },
      "execution_count": 1,
      "outputs": [
        {
          "output_type": "stream",
          "name": "stdout",
          "text": [
            "GEOGCS[\"WGS 84\",DATUM[\"WGS_1984\",SPHEROID[\"WGS 84\",6378137,298.257223563,AUTHORITY[\"EPSG\",\"7030\"]],AUTHORITY[\"EPSG\",\"6326\"]],PRIMEM[\"Greenwich\",0],UNIT[\"degree\",0.0174532925199433,AUTHORITY[\"EPSG\",\"9122\"]],AXIS[\"Latitude\",NORTH],AXIS[\"Longitude\",EAST],AUTHORITY[\"EPSG\",\"4326\"]] (35.49288558959961, 0.0003509521484375, 0.0, 33.71284866333008, 0.0, -0.0002593994140625)\n",
            "(1231, 1245, 63)\n",
            "float32\n",
            "\n"
          ]
        }
      ]
    },
    {
      "cell_type": "code",
      "source": [
        "#rast_arr= np.transpose(image2,(2,0,1))\n",
        "rast_arr=image\n",
        "print(rast_arr.shape)"
      ],
      "metadata": {
        "colab": {
          "base_uri": "https://localhost:8080/"
        },
        "id": "QcfdGYn-X1eA",
        "outputId": "1fd134ae-1b17-4dad-ba75-728a9a69af53"
      },
      "execution_count": 16,
      "outputs": [
        {
          "output_type": "stream",
          "name": "stdout",
          "text": [
            "(63, 1231, 1245)\n"
          ]
        }
      ]
    },
    {
      "cell_type": "code",
      "source": [
        "!pip install minisom"
      ],
      "metadata": {
        "id": "2qnG0fK6Xgol",
        "colab": {
          "base_uri": "https://localhost:8080/"
        },
        "outputId": "35e59a36-5d8a-41de-b5c3-a21999a5eca6"
      },
      "execution_count": 2,
      "outputs": [
        {
          "output_type": "stream",
          "name": "stdout",
          "text": [
            "Looking in indexes: https://pypi.org/simple, https://us-python.pkg.dev/colab-wheels/public/simple/\n",
            "Collecting minisom\n",
            "  Downloading MiniSom-2.3.1.tar.gz (10 kB)\n",
            "  Preparing metadata (setup.py) ... \u001b[?25l\u001b[?25hdone\n",
            "Building wheels for collected packages: minisom\n",
            "  Building wheel for minisom (setup.py) ... \u001b[?25l\u001b[?25hdone\n",
            "  Created wheel for minisom: filename=MiniSom-2.3.1-py3-none-any.whl size=10609 sha256=2d3afb4169c41bd03e1fb383d15faded3a5b1446033435384851bc606dca41f6\n",
            "  Stored in directory: /root/.cache/pip/wheels/b4/aa/7a/d9a88098f7877aa95dd4f227fe614f75773654baa39b47bba6\n",
            "Successfully built minisom\n",
            "Installing collected packages: minisom\n",
            "Successfully installed minisom-2.3.1\n"
          ]
        }
      ]
    },
    {
      "cell_type": "code",
      "source": [
        "import statistics\n",
        "from minisom import MiniSom\n",
        "mine=np.zeros((1231*1245,63))\n",
        "pixels2=np.zeros((1231*1245,63))\n",
        "pixels3=np.zeros((1231*1245,63))\n",
        "som_clustered=np.zeros((1231*1245,63))\n",
        "som = MiniSom(4, 4, 63, sigma=0.5,learning_rate=0.1, neighborhood_function='gaussian')\n",
        "#mine=zeros((512*512,4))\n",
        "#pixels2=zeros((600,512*512,4))\n",
        "#som_clustered=zeros((600,512*512,1))\n",
        "#for i in range(600):\n",
        "pixels2= image2.reshape(1231*1245,63)\n",
        "pixels3 = pixels2 != -999\n",
        "pixels2 = abs(pixels2)*pixels3/300.0\n",
        "#print( pixels2.min())\n",
        "som.random_weights_init(pixels2)\n",
        "starting_weights = som.get_weights().copy()  # saving the starting weights\n",
        "som.train(pixels2, 10000, random_order=False, verbose=True)\n",
        "print('quantization...')\n",
        "qnt = som.quantization(pixels2)  # quantize each pixels of the image\n",
        "    #print(qnt.shape)\n",
        "clustered = np.zeros((1231*1245,63))\n",
        "clustered1 = np.zeros((1231*1245,1))\n",
        "for j, q in enumerate(qnt):  # place the quantized values into a new image\n",
        "  sn = np.unravel_index(j,shape=((1231*1245)))\n",
        "    #print(sn)\n",
        "    #print(me)\n",
        "   \n",
        "  #print(q,(mean(q)*6).astype(np.uint8))\n",
        "  #print(me)\n",
        "  clustered[sn] = q[:] #(max(q)*6).astype(np.uint8) \n",
        "  #print(q[:]*255,round(q[:].max()*255))\n",
        "  #print(me)\n",
        "  #print((round(q[:].max()*16*300.0)))\n",
        "  #print(me)\n",
        "  clustered1[sn] = (round(q[:].max()*255))#.astype(np.uint8) #statistics.mean(q)\n",
        " # print(clustered1[sn])\n",
        "        #print(clustered.shape)\n",
        "#mine= np.append(mine,clustered,axis=0)#,axis=0)\n",
        "   # print(clustered1)\n",
        "#som_clustered[i] =  clustered1\n",
        "    #print(som_clustered[i])\n",
        "    #print(me)\n",
        "#print(mine.shape)"
      ],
      "metadata": {
        "id": "NLyWhKguYmoM",
        "colab": {
          "base_uri": "https://localhost:8080/"
        },
        "outputId": "3b33aa20-07e7-4cdc-a582-4be93e94740f"
      },
      "execution_count": 3,
      "outputs": [
        {
          "output_type": "stream",
          "name": "stdout",
          "text": [
            " [ 10000 / 10000 ] 100% - 0:00:00 left \n",
            " quantization error: 0.09250485365786938\n",
            "quantization...\n"
          ]
        }
      ]
    },
    {
      "cell_type": "code",
      "source": [
        "import cv2\n",
        "import matplotlib.pyplot as plt\n",
        "#print(clustered.shape, clustered1.shape)\n",
        "pixels2= pixels2.reshape((1231,1245,63))\n",
        "clustered2 = np.zeros((1231,1245))\n",
        "clustered3 = np.zeros((1231,1245,3))\n",
        "clustered3[:,:,0]=pixels2[:,:,60]\n",
        "clustered3[:,:,1]=pixels2[:,:,35]\n",
        "clustered3[:,:,2]=pixels2[:,:,20]\n",
        "clustered3 = cv2.pow(clustered3,0.6)\n",
        "# Convert the image from BGR to HSV color space\n",
        "clustered2 = clustered1.reshape(1231,1245)\n",
        "f, axarr = plt.subplots(2,2)\n",
        "plt.figure(figsize = (20,4))\n",
        "axarr[0,0].imshow(clustered2)\n",
        "#plt.show()\n",
        "axarr[0,1].imshow(clustered3)\n",
        "#plt.show()\n",
        "clustered3[:,:,0]=pixels2[:,:,50]\n",
        "clustered3[:,:,1]=pixels2[:,:,30]\n",
        "clustered3[:,:,2]=pixels2[:,:,15]\n",
        "clustered3 = cv2.pow(clustered3,0.7)\n",
        "axarr[1,0].imshow(clustered3)\n",
        "#plt.show()\n",
        "clustered3[:,:,0]=pixels2[:,:,30]\n",
        "clustered3[:,:,1]=pixels2[:,:,20]\n",
        "clustered3[:,:,2]=pixels2[:,:,10]\n",
        "axarr[1,1].imshow(clustered3)\n",
        "plt.show()"
      ],
      "metadata": {
        "id": "dlPPXg3X36lN"
      },
      "execution_count": null,
      "outputs": []
    },
    {
      "cell_type": "code",
      "source": [
        "!ls -l"
      ],
      "metadata": {
        "id": "4tiUhUFx5MkM"
      },
      "execution_count": null,
      "outputs": []
    },
    {
      "cell_type": "code",
      "source": [
        "#from osgeo import osr\n",
        "output_file = \"out7.tif\"\n",
        "#clustered2 = np.zeros((1231,1245))\n",
        "#clustered2 = clustered1.reshape(1231,1245)\n",
        "# Create gtif\n",
        "#rast_arr= np.zeros((image.shape))\n",
        "#rast_arr= np.copy((image))\n",
        "#print(rast_arr)\n",
        "#driver = gdal.GetDriverByName(\"GTiff\")\n",
        "#x_size = dataset.RasterXSize # Raster xsize\n",
        "#y_size = dataset.RasterYSize # Raster ysize\n",
        "nband = dataset.RasterCount # number of bands\n",
        "NaN_rast=-999\n",
        "#dst_ds = driver.Create(output_file, x_size, y_size,nband, gdal.GDT_Float32 )\n",
        "# top left x, w-e pixel resolution, rotation, top left y, rotation, n-s pixel resolution\n",
        "#dst_ds.SetGeoTransform( [ -180, 0.025, 0, 90, 0, -0.025 ] )\n",
        "#print(clustered2[900:1000,900:1000], clustered2.dtype)\n",
        "#print(me)\n",
        "# set the reference info \n",
        "band = 0\n",
        "if type(image) == tuple:\n",
        "  print('0')\n",
        "  rast_arr = np.array(image[band])\n",
        "if str(type(dataset)) == \"<class 'osgeo.gdal.Dataset'>\":\n",
        "  print('2')\n",
        "  geo_transform = dataset.GetGeoTransform()\n",
        "  x_size = dataset.RasterXSize  # Raster xsize\n",
        "  y_size = dataset.RasterYSize  # Raster ysize\n",
        "  #print(x_size,y_size)\n",
        "  srs = dataset.GetProjectionRef()  # Projection\n",
        "elif str(type(dataset)) == \"<class 'affine.Affine'>\":\n",
        "  print('3')\n",
        "  geo_transform = (dataset[2], dataset[0], dataset[1], dataset[5], dataset[3], dataset[4])\n",
        "  rast_arr = image[band,:,:]\n",
        "  x_size = int(rast_arr.shape[1])\n",
        "  y_size = int(rast_arr.shape[0])\n",
        "driver = gdal.GetDriverByName(\"GTiff\")\n",
        "dataset_out = driver.Create(output_file, x_size, y_size, nband, gdal.GDT_Float32)\n",
        "    #end auxiliar\n",
        "for band in range(1,nband):\n",
        "  if type(image) == tuple:\n",
        "    print('Iam ')\n",
        "    rast_arr = np.array(image[band])\n",
        "  if str(type(dataset)) == \"<class 'osgeo.gdal.Dataset'>\":\n",
        "    print('Iam here')\n",
        "    geo_transform = dataset.GetGeoTransform()\n",
        "    x_size = dataset.RasterXSize  # Raster xsize\n",
        "    y_size = dataset.RasterYSize  # Raster ysize\n",
        "    #print(x_size,y_size)\n",
        "    srs = dataset.GetProjectionRef()  # Projection\n",
        "  elif str(type(dataset)) == \"<class 'affine.Affine'>\":\n",
        "    print('Iam here here')\n",
        "    geo_transform = (dataset[2], dataset[0], dataset[1], dataset[5], dataset[3], dataset[4])\n",
        "    rast_arr = image[band,:,:]\n",
        "    x_size = int(rast_arr.shape[1])\n",
        "    y_size = int(rast_arr.shape[0])\n",
        "        #PROCESS RASTERIO NUMPY\n",
        "  else:\n",
        "    print('Iam here here here')\n",
        "    geo_transform = (dataset[1][2], dataset[1][0], dataset[1][1], dataset[1][5], dataset[1][3], dataset[1][4])\n",
        "    rast_arr = np.array(dataset[0])\n",
        "    x_size = int(rast_arr.shape[2])\n",
        "    y_size = int(rast_arr.shape[1])\n",
        "  rast_arr[rast_arr == NaN_rast] = np.NaN\n",
        "  dataset_out.SetGeoTransform(geo_transform)\n",
        "  dataset_out.SetProjection(srs)\n",
        "  print(band)\n",
        "  dataset_out.GetRasterBand(band).WriteArray(rast_arr[band,:,:])#.astype(np.float32))\n",
        "#for band in range(1,nband):\n",
        "  #dst_ds.SetGeoTransform(trans)\n",
        "#dst_ds.ImportFromWkt(projInfo)\n",
        "  #dst_ds.SetProjection( projInfo )\n",
        "  #dst_ds.GetRasterBand(band).WriteArray(image)\n",
        "#dst_ds.FlushCache()\n",
        "#dst_ds = None\n"
      ],
      "metadata": {
        "id": "FyBc1zT4eFqO",
        "colab": {
          "base_uri": "https://localhost:8080/"
        },
        "outputId": "4ea10f09-d318-48b2-8b25-9387377b7840"
      },
      "execution_count": 23,
      "outputs": [
        {
          "output_type": "stream",
          "name": "stdout",
          "text": [
            "2\n",
            "Iam here\n",
            "1\n",
            "Iam here\n",
            "2\n",
            "Iam here\n",
            "3\n",
            "Iam here\n",
            "4\n",
            "Iam here\n",
            "5\n",
            "Iam here\n",
            "6\n",
            "Iam here\n",
            "7\n",
            "Iam here\n",
            "8\n",
            "Iam here\n",
            "9\n",
            "Iam here\n",
            "10\n",
            "Iam here\n",
            "11\n",
            "Iam here\n",
            "12\n",
            "Iam here\n",
            "13\n",
            "Iam here\n",
            "14\n",
            "Iam here\n",
            "15\n",
            "Iam here\n",
            "16\n",
            "Iam here\n",
            "17\n",
            "Iam here\n",
            "18\n",
            "Iam here\n",
            "19\n",
            "Iam here\n",
            "20\n",
            "Iam here\n",
            "21\n",
            "Iam here\n",
            "22\n",
            "Iam here\n",
            "23\n",
            "Iam here\n",
            "24\n",
            "Iam here\n",
            "25\n",
            "Iam here\n",
            "26\n",
            "Iam here\n",
            "27\n",
            "Iam here\n",
            "28\n",
            "Iam here\n",
            "29\n",
            "Iam here\n",
            "30\n",
            "Iam here\n",
            "31\n",
            "Iam here\n",
            "32\n",
            "Iam here\n",
            "33\n",
            "Iam here\n",
            "34\n",
            "Iam here\n",
            "35\n",
            "Iam here\n",
            "36\n",
            "Iam here\n",
            "37\n",
            "Iam here\n",
            "38\n",
            "Iam here\n",
            "39\n",
            "Iam here\n",
            "40\n",
            "Iam here\n",
            "41\n",
            "Iam here\n",
            "42\n",
            "Iam here\n",
            "43\n",
            "Iam here\n",
            "44\n",
            "Iam here\n",
            "45\n",
            "Iam here\n",
            "46\n",
            "Iam here\n",
            "47\n",
            "Iam here\n",
            "48\n",
            "Iam here\n",
            "49\n",
            "Iam here\n",
            "50\n",
            "Iam here\n",
            "51\n",
            "Iam here\n",
            "52\n",
            "Iam here\n",
            "53\n",
            "Iam here\n",
            "54\n",
            "Iam here\n",
            "55\n",
            "Iam here\n",
            "56\n",
            "Iam here\n",
            "57\n",
            "Iam here\n",
            "58\n",
            "Iam here\n",
            "59\n",
            "Iam here\n",
            "60\n",
            "Iam here\n",
            "61\n",
            "Iam here\n",
            "62\n"
          ]
        }
      ]
    },
    {
      "cell_type": "code",
      "source": [
        "def unique(list1):\n",
        " \n",
        "    # insert the list to the set\n",
        "    list_set = set(list1)\n",
        "    # convert the set to the list\n",
        "    unique_list = (list(list_set))\n",
        "    #for x in unique_list:\n",
        "        #print(x)\n",
        "    return unique_list"
      ],
      "metadata": {
        "id": "Cxr1qbkrrnb_"
      },
      "execution_count": null,
      "outputs": []
    },
    {
      "cell_type": "code",
      "source": [
        "list1=[]\n",
        "list1= np.append(list1,clustered)\n",
        "#list1=clustered1.tolist()\n",
        "l= np.zeros(60)\n",
        "u=unique(list1)\n",
        "print(u)\n"
      ],
      "metadata": {
        "id": "REnOM6z5rqAW"
      },
      "execution_count": null,
      "outputs": []
    },
    {
      "cell_type": "code",
      "source": [
        "a=plt.hist(clustered)\n",
        "print(a)"
      ],
      "metadata": {
        "id": "1hMtBWvylSsJ"
      },
      "execution_count": null,
      "outputs": []
    },
    {
      "cell_type": "code",
      "source": [
        "import tensorflow as tf\n",
        "from tensorflow import keras\n",
        "from keras import layers, models\n",
        "import keras\n",
        "from keras.models import Sequential\n",
        "from keras.layers import Dense, Dropout, Flatten\n",
        "from keras.layers import Conv2D, MaxPooling2D\n",
        "#from keras.utils import to_categorical\n",
        "from keras.preprocessing import image\n",
        "#import numpy as np\n",
        "#import pandas as pd\n",
        "import matplotlib.pyplot as plt\n",
        "from sklearn.metrics import  confusion_matrix, classification_report\n",
        "from sklearn.model_selection import train_test_split\n",
        "#from keras.utils import to_categorical\n",
        "from tqdm import tqdm\n",
        "#import pydot\n",
        "#import pydot_ng as pydot\n",
        "from keras.utils import plot_model\n",
        "from keras.layers import Input, Dense, BatchNormalization"
      ],
      "metadata": {
        "id": "bDLKnoWfpIho"
      },
      "execution_count": null,
      "outputs": []
    },
    {
      "cell_type": "code",
      "source": [
        "#creating subimage of size 32X32\n",
        "height=32\n",
        "width = 32\n",
        "subim = np.zeros((38,32,32,63))\n",
        "imgwidth, imgheight, bands= image2[15:1231,29:1245,:].shape\n",
        "image3 = np.zeros((imgwidth, imgheight, bands))\n",
        "image3 = image2[15:1231,29:1245,:]\n",
        "#print(imgwidth, imgheight, bands)\n",
        "for k in range(0,38):\n",
        "  for i in range(0,imgheight,height):\n",
        "    for j in range(0,imgwidth,width):\n",
        "      #box = (j, i, j+width, i+height)\n",
        "      subim[k]= image3[j:j+width,i:i+height,:]"
      ],
      "metadata": {
        "id": "fFrQhAu-13yu"
      },
      "execution_count": null,
      "outputs": []
    },
    {
      "cell_type": "code",
      "source": [
        "import csv\n",
        "from os import listdir\n",
        "import numpy as np\n",
        "import matplotlib.image as img\n",
        "import pandas as pd\n",
        "import os\n",
        "from os.path import exists\n",
        "from pathlib import Path\n",
        "\n",
        "#with open('C:/Users/ma850/OneDrive/Documents/banana_spectral_signatures/banana_healthy_1a.dat', 'r') as dat_file:\n",
        " #   with open('C:/Users/ma850/OneDrive/Documents/banana_spectral_signatures/banana_healthy_1a.csv', 'w') as csv_file:\n",
        "csv_dir =  r'/content/'\n",
        "onlyfilenames = [f for f in listdir(csv_dir) if os.path.isfile(csv_dir+f)]\n",
        "for file in onlyfilenames:\n",
        "    print(file)\n",
        "    filename, extension = os.path.splitext(file)\n",
        "    if extension == '.csv':\n",
        "        df = pd.read_csv(csv_dir+file,header =0)#, chunksize=1000)\n",
        "        print(df.shape)\n",
        "specsig = (df.iloc[:,:].values).astype('float32')\n",
        "print(specsig.shape)"
      ],
      "metadata": {
        "id": "TIO6F0oNrCC-"
      },
      "execution_count": null,
      "outputs": []
    },
    {
      "cell_type": "code",
      "source": [
        "#filtering A spectril signature\n",
        "\n",
        "import numpy\n",
        "print(specsig[:,0])\n",
        "specsig[:,0:1]\n",
        "import matplotlib.pyplot as plt\n",
        "#plt.plot(specsig[:,0],specsig[:,1])\n",
        "specsig1 = numpy.zeros((2151,30))\n",
        "specsig2 = numpy.zeros((2151,30))\n",
        "leng=len(specsig)\n",
        "#print(leng)\n",
        "specsig1[:,0] = specsig[:,0]\n",
        "for i in range(leng):\n",
        "    for j in range(1,30,1):\n",
        "        if(specsig[i,j] >=0 and specsig[i,j] <= 1.0):\n",
        "            specsig1[i,j]=specsig[i,j]\n",
        "        else:\n",
        "            specsig1[i,j]= 0\n",
        "#print(specsig1[:,0:1])       \n",
        "specsig2[:,0] = specsig[:,0]\n",
        "specsig2[0:991,1:30]=specsig[0:991,1:30]\n",
        "specsig2[991:1096,1:30]=specsig[991:1096,1:30]\n",
        "specsig2[1096:1441,1:30]= specsig[1096:1441,1:30]\n",
        "specsig2[1441:1606,1:30]=0\n",
        "specsig2[1606:2151,1:30]= specsig[1606:2151,1:30]\n",
        "print(specsig2.shape)\n",
        "plt.subplot(1, 2 , 1) # row 1, col 2 index 1\n",
        "#plt.plot(specsig2[0:991,0],specsig2[0:991,2],'b.')\n",
        "#plt.plot(specsig2[1096:1441,0],specsig2[1096:1441,2],'b.')\n",
        "#plt.plot(specsig2[1606:2100,0],specsig2[1606:2100,2],'b.')\n",
        "plt.plot(specsig2[:,0],specsig2[:,1:],'b.')\n",
        "plt.subplot(2, 2, 2) \n",
        "plt.plot(specsig[:,0],specsig[:,1:],'r^')\n",
        "plt.show"
      ],
      "metadata": {
        "id": "zOgbcB5c8Z7D"
      },
      "execution_count": null,
      "outputs": []
    },
    {
      "cell_type": "code",
      "source": [
        "# reading FWHM file for prisma\n",
        "csv_dir = \"/content/\"\n",
        "file='wvfwmh_VNIR.csv'\n",
        "df = pd.read_csv(csv_dir+file,header =0)\n",
        "print(df.shape)\n",
        "fwhm= (df.iloc[:,:].values).astype('float32')"
      ],
      "metadata": {
        "id": "fxrACeHr-IBY"
      },
      "execution_count": null,
      "outputs": []
    },
    {
      "cell_type": "code",
      "source": [
        "#resmapling spectral signatures to Prisma VNIR using FWHM\n",
        "specsig3 = np.zeros((63,31))\n",
        "specsig3[:,0]=fwhm[:,2]\n",
        "specsig3[:,1]=fwhm[:,3]\n",
        "for j in range(1,30):\n",
        "   # n=0\n",
        "    for i in range(0,63):\n",
        "        f= round(fwhm[i,2])\n",
        "        k= round(f+fwhm[i,3])\n",
        "        s=0\n",
        "        l=0\n",
        "        for m in range (0,2151):\n",
        "           \n",
        "            if specsig2[m,0] >= f and specsig2[m,0]<=k:\n",
        "                s= specsig2[m,j]+ s\n",
        "                l=l+1\n",
        "        av= s/l\n",
        "        specsig3[i,j+1]= av\n",
        " "
      ],
      "metadata": {
        "id": "UPnb_LMY8oBY"
      },
      "execution_count": null,
      "outputs": []
    },
    {
      "cell_type": "code",
      "source": [],
      "metadata": {
        "id": "j94t67on_X7I"
      },
      "execution_count": null,
      "outputs": []
    }
  ],
  "metadata": {
    "colab": {
      "name": "Welcome To Colaboratory",
      "provenance": [],
      "include_colab_link": true
    },
    "kernelspec": {
      "display_name": "Python 3",
      "name": "python3"
    }
  },
  "nbformat": 4,
  "nbformat_minor": 0
}